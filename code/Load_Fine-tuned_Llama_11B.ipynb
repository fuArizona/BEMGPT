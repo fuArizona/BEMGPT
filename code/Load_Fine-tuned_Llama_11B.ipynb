{
 "cells": [
  {
   "cell_type": "code",
   "execution_count": null,
   "id": "340f876e-8ee8-4553-bc49-eeabe528de65",
   "metadata": {},
   "outputs": [],
   "source": [
    "import sys\n",
    "# !{sys.executable} -m pip install tiktoken\n",
    "# !{sys.executable} -m pip install pandas>=2.0.0\n",
    "import os\n",
    "\n",
    "import torch\n",
    "device = torch.device('cuda' if torch.cuda.is_available() else 'cpu')\n",
    "print('Using device:', device)\n",
    "os.environ[\"CUDA_VISIBLE_DEVICES\"] = \"0,1,2\"\n",
    "\n",
    "os.environ[\"PYTORCH_CUDA_ALLOC_CONF\"] = \"expandable_segments:True\"\n",
    "\n",
    "# os.environ[\"CUDA_VISIBLE_DEVICES\"] = \"0\"  # for 1B\n",
    "import gc\n",
    "gc.collect()\n",
    "torch.cuda.empty_cache()"
   ]
  },
  {
   "cell_type": "code",
   "execution_count": null,
   "id": "e086e891-06af-4ad2-a000-e247aed01055",
   "metadata": {},
   "outputs": [],
   "source": [
    "import tiktoken\n",
    "import torch\n",
    "import transformers\n",
    "from transformers import AutoTokenizer, AutoModelForCausalLM\n",
    "from transformers import BitsAndBytesConfig,LlamaTokenizer\n",
    "from datasets import load_dataset\n",
    "from peft import prepare_model_for_kbit_training\n",
    "from peft import LoraConfig, get_peft_model\n",
    "from datetime import datetime"
   ]
  },
  {
   "cell_type": "code",
   "execution_count": null,
   "id": "71cfd76c-bc04-428d-b911-a24b7f7c72ec",
   "metadata": {},
   "outputs": [],
   "source": [
    "from trl import SFTTrainer, setup_chat_format\n",
    "import json\n",
    "from peft import PeftModel, PeftConfig,AutoPeftModelForCausalLM\n",
    "from transformers import MllamaForConditionalGeneration, AutoProcessor\n",
    "import torch\n",
    "torch_dtype = torch.float16\n",
    "attn_implementation = \"eager\"\n",
    "# !{sys.executable} -m pip install bitsandbytes\n",
    "# QLoRA config\n",
    "bnb_config = BitsAndBytesConfig(\n",
    "    load_in_4bit=True,\n",
    "    bnb_4bit_quant_type=\"nf4\",\n",
    "    bnb_4bit_compute_dtype=torch_dtype,\n",
    "    bnb_4bit_use_double_quant=True,\n",
    ")\n",
    "import time\n",
    "\n",
    "def load_model_tokenizer_questions(base_model, lora_model):\n",
    "    \n",
    "    tokenizer = AutoTokenizer.from_pretrained(base_model)\n",
    "    model = MllamaForConditionalGeneration.from_pretrained(base_model, quantization_config=bnb_config, device_map=\"auto\",attn_implementation=attn_implementation)\n",
    "    model.resize_token_embeddings(len(tokenizer))  # Or len(tokenizer) if you're using the LoRA tokenizer\n",
    "    model = PeftModel.from_pretrained(model, lora_model, device_map=\"auto\")\n",
    "    \n",
    "    return model, tokenizer"
   ]
  },
  {
   "cell_type": "code",
   "execution_count": null,
   "id": "6e979dde-1d48-432b-8830-aa81fbe82650",
   "metadata": {},
   "outputs": [],
   "source": [
    "model, tokenizer = load_model_tokenizer_questions(\n",
    "    base_model=\"meta-llama/Llama-3.2-11B-Vision-Instruct\",\n",
    "    lora_model=\"xfu20/BEMGPT_1\"\n",
    ")"
   ]
  }
 ],
 "metadata": {
  "kernelspec": {
   "display_name": "py2",
   "language": "python",
   "name": "py2"
  },
  "language_info": {
   "codemirror_mode": {
    "name": "ipython",
    "version": 3
   },
   "file_extension": ".py",
   "mimetype": "text/x-python",
   "name": "python",
   "nbconvert_exporter": "python",
   "pygments_lexer": "ipython3",
   "version": "3.12.9"
  }
 },
 "nbformat": 4,
 "nbformat_minor": 5
}
